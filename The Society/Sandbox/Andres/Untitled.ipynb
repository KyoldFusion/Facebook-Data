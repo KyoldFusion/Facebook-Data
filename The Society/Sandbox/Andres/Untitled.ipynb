{
 "cells": [
  {
   "cell_type": "code",
   "execution_count": 2,
   "metadata": {},
   "outputs": [],
   "source": [
    "import os\n",
    "import matplotlib as mp\n",
    "import pandas as pd\n",
    "import plotly as pt"
   ]
  },
  {
   "cell_type": "code",
   "execution_count": 29,
   "metadata": {},
   "outputs": [
    {
     "data": {
      "text/html": [
       "<div>\n",
       "<style scoped>\n",
       "    .dataframe tbody tr th:only-of-type {\n",
       "        vertical-align: middle;\n",
       "    }\n",
       "\n",
       "    .dataframe tbody tr th {\n",
       "        vertical-align: top;\n",
       "    }\n",
       "\n",
       "    .dataframe thead th {\n",
       "        text-align: right;\n",
       "    }\n",
       "</style>\n",
       "<table border=\"1\" class=\"dataframe\">\n",
       "  <thead>\n",
       "    <tr style=\"text-align: right;\">\n",
       "      <th></th>\n",
       "      <th></th>\n",
       "      <th></th>\n",
       "      <th></th>\n",
       "      <th>posts_and_comments</th>\n",
       "    </tr>\n",
       "  </thead>\n",
       "  <tbody>\n",
       "    <tr>\n",
       "      <th>reactions/timestamp</th>\n",
       "      <th>reactions/data/0/reaction/reaction</th>\n",
       "      <th>reactions/data/0/reaction/actor</th>\n",
       "      <th>reactions/title</th>\n",
       "      <td>reactions/attachments/0/data/0/media/uri</td>\n",
       "    </tr>\n",
       "    <tr>\n",
       "      <th>1609460338</th>\n",
       "      <th>LIKE</th>\n",
       "      <th>Andres Alcaraz</th>\n",
       "      <th>Andres Alcaraz likes Vinicius Gomes's photo.</th>\n",
       "      <td>NaN</td>\n",
       "    </tr>\n",
       "    <tr>\n",
       "      <th>1609449420</th>\n",
       "      <th>LIKE</th>\n",
       "      <th>Andres Alcaraz</th>\n",
       "      <th>Andres Alcaraz likes Mario Alcaraz's photo.</th>\n",
       "      <td>NaN</td>\n",
       "    </tr>\n",
       "    <tr>\n",
       "      <th>1609300275</th>\n",
       "      <th>LIKE</th>\n",
       "      <th>Andres Alcaraz</th>\n",
       "      <th>Andres Alcaraz likes Mony Vazquez's post.</th>\n",
       "      <td>NaN</td>\n",
       "    </tr>\n",
       "    <tr>\n",
       "      <th>1609253183</th>\n",
       "      <th>LIKE</th>\n",
       "      <th>Andres Alcaraz</th>\n",
       "      <th>Andres Alcaraz likes Christian Foster's post in Raspberry Pi Projects.</th>\n",
       "      <td>NaN</td>\n",
       "    </tr>\n",
       "  </tbody>\n",
       "</table>\n",
       "</div>"
      ],
      "text/plain": [
       "                                                                                                                                                                 posts_and_comments\n",
       "reactions/timestamp reactions/data/0/reaction/reaction reactions/data/0/reaction/actor reactions/title                                     reactions/attachments/0/data/0/media/uri\n",
       "1609460338          LIKE                               Andres Alcaraz                  Andres Alcaraz likes Vinicius Gomes's photo.                                             NaN\n",
       "1609449420          LIKE                               Andres Alcaraz                  Andres Alcaraz likes Mario Alcaraz's photo.                                              NaN\n",
       "1609300275          LIKE                               Andres Alcaraz                  Andres Alcaraz likes Mony Vazquez's post.                                                NaN\n",
       "1609253183          LIKE                               Andres Alcaraz                  Andres Alcaraz likes Christian Foster's post in...                                       NaN"
      ]
     },
     "execution_count": 29,
     "metadata": {},
     "output_type": "execute_result"
    }
   ],
   "source": [
    "fb_df = pd.read_csv('Andres_posts_and_commentsCSV.csv') #likes by me csv \n",
    "fb_df.head()\n"
   ]
  },
  {
   "cell_type": "code",
   "execution_count": null,
   "metadata": {},
   "outputs": [],
   "source": [
    "\n"
   ]
  },
  {
   "cell_type": "code",
   "execution_count": null,
   "metadata": {},
   "outputs": [],
   "source": []
  },
  {
   "cell_type": "code",
   "execution_count": null,
   "metadata": {},
   "outputs": [],
   "source": []
  }
 ],
 "metadata": {
  "kernelspec": {
   "display_name": "Python 3",
   "language": "python",
   "name": "python3"
  },
  "language_info": {
   "codemirror_mode": {
    "name": "ipython",
    "version": 3
   },
   "file_extension": ".py",
   "mimetype": "text/x-python",
   "name": "python",
   "nbconvert_exporter": "python",
   "pygments_lexer": "ipython3",
   "version": "3.8.5"
  }
 },
 "nbformat": 4,
 "nbformat_minor": 4
}
