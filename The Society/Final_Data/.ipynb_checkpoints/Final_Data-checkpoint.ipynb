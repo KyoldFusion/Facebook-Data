{
 "cells": [
  {
   "cell_type": "code",
   "execution_count": null,
   "metadata": {},
   "outputs": [],
   "source": [
    "import os\n",
    "import matplotlib as mp\n",
    "import pandas as pd\n",
    "import plotly as pt\n"
   ]
  },
  {
   "cell_type": "code",
   "execution_count": null,
   "metadata": {},
   "outputs": [],
   "source": [
    "#Creat a csv for each date\n",
    "path_M = os.path.join('Resources/Mike_posts_and_comments.CSV.csv') \n",
    "Mike_df = pd.read_csv (path_M)\n",
    "path_A = os.path.join('Resources/Andres_posts_and_comments.CSV.csv') \n",
    "Andres_df = pd.read_csv (path_A)\n",
    "path_C= os.path.join('Resources/Chey_posts_and_comments.CSV.csv') \n",
    "Chey_df = pd.read_csv (path_C)\n",
    "Andres_df"
   ]
  },
  {
   "cell_type": "code",
   "execution_count": null,
   "metadata": {},
   "outputs": [],
   "source": [
    "#Filter CSV \n",
    "tm_C = Chey_df['reactions/timestamp']\n",
    "tm_M = Mike_df['Timestamp']\n",
    "tm_A = Andres_df['reactions/timestamp']"
   ]
  },
  {
   "cell_type": "code",
   "execution_count": null,
   "metadata": {},
   "outputs": [],
   "source": [
    "#Create columns Year, Month, Day, Hour\n",
    "\n",
    "#Chey\n",
    "Chey_df['Timestamp'] = pd.to_datetime(tm_C,unit='s', yearfirst=True) \n",
    "Chey_df['Year']= Chey_df['Timestamp'].dt.year\n",
    "Chey_df['Month']= Chey_df['Timestamp'].dt.month\n",
    "Chey_df['Day']= Chey_df['Timestamp'].dt.day\n",
    "Chey_df['Hour']= Chey_df['Timestamp'].dt.hour\n",
    "\n",
    "#Mike\n",
    "Mike_df['Timestamp'] = pd.to_datetime(tm_M,unit='s', yearfirst=True) \n",
    "Mike_df['Year']= Mike_df['Timestamp'].dt.year\n",
    "Mike_df['Month']= Mike_df['Timestamp'].dt.month\n",
    "Mike_df['Day']= Mike_df['Timestamp'].dt.day\n",
    "Mike_df['Hour']= Mike_df['Timestamp'].dt.hour\n",
    "\n",
    "#Andres\n",
    "Andres_df['Timestamp'] = pd.to_datetime(tm_A,unit='s', yearfirst=True) \n",
    "Andres_df['Year']= Andres_df['Timestamp'].dt.year\n",
    "Andres_df['Month']= Andres_df['Timestamp'].dt.month\n",
    "Andres_df['Day']= Andres_df['Timestamp'].dt.day\n",
    "Andres_df['Hour']= Andres_df['Timestamp'].dt.hour\n",
    "\n",
    "Andres_df.info()"
   ]
  },
  {
   "cell_type": "code",
   "execution_count": null,
   "metadata": {},
   "outputs": [],
   "source": [
    "#Clean our Data Frame\n",
    "\n",
    "#Chey\n",
    "Chey_df.columns = ['stand', 'Reaction','User','Action','Nan0','Nan','Nan1','Nan3','Timestamp','Year','Month','Day','Hour']\n",
    "Chey2_df = Chey_df.drop(columns=['stand','Nan0','Nan','Nan1','Nan3'])\n",
    "\n",
    "#Mike\n",
    "Mike_df = Mike_df.drop(columns=['Uri'])\n",
    "Mike2_df = Mike_df.reindex(columns = ['Reaction','User','Action','Timestamp','Year',\"Month\",'Day','Hour'])\n",
    "\n",
    "#Andres\n",
    "Andres_df.columns = ['stand', 'Reaction','User','Action','Nan','Timestamp','Year','Month','Day','Hour']\n",
    "Andres2_df = Andres_df.drop(columns=['stand','Nan'])\n"
   ]
  },
  {
   "cell_type": "code",
   "execution_count": null,
   "metadata": {},
   "outputs": [],
   "source": [
    "Mike2_df.head()"
   ]
  },
  {
   "cell_type": "code",
   "execution_count": null,
   "metadata": {},
   "outputs": [],
   "source": [
    "Chey2_df.head()"
   ]
  },
  {
   "cell_type": "code",
   "execution_count": null,
   "metadata": {},
   "outputs": [],
   "source": [
    "Andres2_df.head()"
   ]
  },
  {
   "cell_type": "code",
   "execution_count": null,
   "metadata": {},
   "outputs": [],
   "source": []
  }
 ],
 "metadata": {
  "kernelspec": {
   "display_name": "Python 3",
   "language": "python",
   "name": "python3"
  },
  "language_info": {
   "codemirror_mode": {
    "name": "ipython",
    "version": 3
   },
   "file_extension": ".py",
   "mimetype": "text/x-python",
   "name": "python",
   "nbconvert_exporter": "python",
   "pygments_lexer": "ipython3",
   "version": "3.8.3"
  }
 },
 "nbformat": 4,
 "nbformat_minor": 4
}
