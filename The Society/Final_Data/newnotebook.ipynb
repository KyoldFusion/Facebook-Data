{
 "cells": [
  {
   "cell_type": "code",
   "execution_count": null,
   "metadata": {},
   "outputs": [],
   "source": [
    "import os\n",
    "import matplotlib as mp\n",
    "import pandas as pd\n",
    "import plotly as pt\n",
    "import scipy.stats as stats\n",
    "import matplotlib.pyplot as plt\n",
    "import numpy as np\n",
    "import plotly.express as px\n",
    "from plotly.subplots import make_subplots\n",
    "import plotly.graph_objects as go"
   ]
  },
  {
   "cell_type": "code",
   "execution_count": null,
   "metadata": {},
   "outputs": [],
   "source": [
    "%matplotlib notebook"
   ]
  },
  {
   "cell_type": "code",
   "execution_count": null,
   "metadata": {},
   "outputs": [],
   "source": [
    "#Creat a csv for each date\n",
    "path_M = os.path.join('Resources/Mike_posts_and_comments.CSV.csv') \n",
    "Mike_df = pd.read_csv (path_M)\n",
    "path_A = os.path.join('Resources/Andres_posts_and_comments.CSV.csv') \n",
    "Andres_df = pd.read_csv (path_A)\n",
    "path_C= os.path.join('Resources/Chey_posts_and_comments.CSV.csv') \n",
    "Chey_df = pd.read_csv (path_C)\n",
    "path_B= os.path.join('Resources/Bruna_posts_and_comments.CSV.csv') \n",
    "Bruna_df = pd.read_csv (path_B)"
   ]
  },
  {
   "cell_type": "code",
   "execution_count": null,
   "metadata": {},
   "outputs": [],
   "source": [
    "tm_C = Chey_df['reactions/timestamp']\n",
    "tm_M = Mike_df['Timestamp']\n",
    "tm_A = Andres_df['reactions/timestamp']\n",
    "tm_B = Bruna_df['reactions/timestamp']"
   ]
  },
  {
   "cell_type": "code",
   "execution_count": null,
   "metadata": {},
   "outputs": [],
   "source": []
  }
 ],
 "metadata": {
  "kernelspec": {
   "display_name": "Python 3.8.1 32-bit",
   "language": "python",
   "name": "python38132bit8489ff05d770414285324a7560bfde57"
  }
 },
 "nbformat": 4,
 "nbformat_minor": 4
}
