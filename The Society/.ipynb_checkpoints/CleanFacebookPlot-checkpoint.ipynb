{
 "cells": [
  {
   "cell_type": "code",
   "execution_count": 1,
   "metadata": {},
   "outputs": [],
   "source": [
    "import os\n",
    "import matplotlib as mp\n",
    "import pandas as pd\n",
    "import plotly as pt"
   ]
  },
  {
   "cell_type": "code",
   "execution_count": 3,
   "metadata": {},
   "outputs": [
    {
     "data": {
      "text/html": [
       "<div>\n",
       "<style scoped>\n",
       "    .dataframe tbody tr th:only-of-type {\n",
       "        vertical-align: middle;\n",
       "    }\n",
       "\n",
       "    .dataframe tbody tr th {\n",
       "        vertical-align: top;\n",
       "    }\n",
       "\n",
       "    .dataframe thead th {\n",
       "        text-align: right;\n",
       "    }\n",
       "</style>\n",
       "<table border=\"1\" class=\"dataframe\">\n",
       "  <thead>\n",
       "    <tr style=\"text-align: right;\">\n",
       "      <th></th>\n",
       "      <th>Page total likes;Type;Category;Post Month;Post Weekday;Post Hour;Paid;Lifetime Post Total Reach;Lifetime Post Total Impressions;Lifetime Engaged Users;Lifetime Post Consumers;Lifetime Post Consumptions;Lifetime Post Impressions by people who have liked your Page;Lifetime Post reach by people who like your Page;Lifetime People who have liked your Page and engaged with your post;comment;like;share;Total Interactions</th>\n",
       "    </tr>\n",
       "  </thead>\n",
       "  <tbody>\n",
       "    <tr>\n",
       "      <th>0</th>\n",
       "      <td>139441;Photo;2;12;4;3;0;2752;5091;178;109;159;...</td>\n",
       "    </tr>\n",
       "    <tr>\n",
       "      <th>1</th>\n",
       "      <td>139441;Status;2;12;3;10;0;10460;19057;1457;136...</td>\n",
       "    </tr>\n",
       "    <tr>\n",
       "      <th>2</th>\n",
       "      <td>139441;Photo;3;12;3;3;0;2413;4373;177;113;154;...</td>\n",
       "    </tr>\n",
       "    <tr>\n",
       "      <th>3</th>\n",
       "      <td>139441;Photo;2;12;2;10;1;50128;87991;2211;790;...</td>\n",
       "    </tr>\n",
       "    <tr>\n",
       "      <th>4</th>\n",
       "      <td>139441;Photo;2;12;2;3;0;7244;13594;671;410;580...</td>\n",
       "    </tr>\n",
       "    <tr>\n",
       "      <th>...</th>\n",
       "      <td>...</td>\n",
       "    </tr>\n",
       "    <tr>\n",
       "      <th>495</th>\n",
       "      <td>85093;Photo;3;1;7;2;0;4684;7536;733;708;985;47...</td>\n",
       "    </tr>\n",
       "    <tr>\n",
       "      <th>496</th>\n",
       "      <td>81370;Photo;2;1;5;8;0;3480;6229;537;508;687;39...</td>\n",
       "    </tr>\n",
       "    <tr>\n",
       "      <th>497</th>\n",
       "      <td>81370;Photo;1;1;5;2;0;3778;7216;625;572;795;47...</td>\n",
       "    </tr>\n",
       "    <tr>\n",
       "      <th>498</th>\n",
       "      <td>81370;Photo;3;1;4;11;0;4156;7564;626;574;832;4...</td>\n",
       "    </tr>\n",
       "    <tr>\n",
       "      <th>499</th>\n",
       "      <td>81370;Photo;2;1;4;4;;4188;7292;564;524;743;386...</td>\n",
       "    </tr>\n",
       "  </tbody>\n",
       "</table>\n",
       "<p>500 rows × 1 columns</p>\n",
       "</div>"
      ],
      "text/plain": [
       "    Page total likes;Type;Category;Post Month;Post Weekday;Post Hour;Paid;Lifetime Post Total Reach;Lifetime Post Total Impressions;Lifetime Engaged Users;Lifetime Post Consumers;Lifetime Post Consumptions;Lifetime Post Impressions by people who have liked your Page;Lifetime Post reach by people who like your Page;Lifetime People who have liked your Page and engaged with your post;comment;like;share;Total Interactions\n",
       "0    139441;Photo;2;12;4;3;0;2752;5091;178;109;159;...                                                                                                                                                                                                                                                                                                                                                                               \n",
       "1    139441;Status;2;12;3;10;0;10460;19057;1457;136...                                                                                                                                                                                                                                                                                                                                                                               \n",
       "2    139441;Photo;3;12;3;3;0;2413;4373;177;113;154;...                                                                                                                                                                                                                                                                                                                                                                               \n",
       "3    139441;Photo;2;12;2;10;1;50128;87991;2211;790;...                                                                                                                                                                                                                                                                                                                                                                               \n",
       "4    139441;Photo;2;12;2;3;0;7244;13594;671;410;580...                                                                                                                                                                                                                                                                                                                                                                               \n",
       "..                                                 ...                                                                                                                                                                                                                                                                                                                                                                               \n",
       "495  85093;Photo;3;1;7;2;0;4684;7536;733;708;985;47...                                                                                                                                                                                                                                                                                                                                                                               \n",
       "496  81370;Photo;2;1;5;8;0;3480;6229;537;508;687;39...                                                                                                                                                                                                                                                                                                                                                                               \n",
       "497  81370;Photo;1;1;5;2;0;3778;7216;625;572;795;47...                                                                                                                                                                                                                                                                                                                                                                               \n",
       "498  81370;Photo;3;1;4;11;0;4156;7564;626;574;832;4...                                                                                                                                                                                                                                                                                                                                                                               \n",
       "499  81370;Photo;2;1;4;4;;4188;7292;564;524;743;386...                                                                                                                                                                                                                                                                                                                                                                               \n",
       "\n",
       "[500 rows x 1 columns]"
      ]
     },
     "execution_count": 3,
     "metadata": {},
     "output_type": "execute_result"
    }
   ],
   "source": [
    "fb_df = pd.read_csv('dataset_Facebook.csv')\n",
    "fb_df"
   ]
  },
  {
   "cell_type": "code",
   "execution_count": null,
   "metadata": {},
   "outputs": [],
   "source": []
  }
 ],
 "metadata": {
  "kernelspec": {
   "display_name": "Python 3",
   "language": "python",
   "name": "python3"
  },
  "language_info": {
   "codemirror_mode": {
    "name": "ipython",
    "version": 3
   },
   "file_extension": ".py",
   "mimetype": "text/x-python",
   "name": "python",
   "nbconvert_exporter": "python",
   "pygments_lexer": "ipython3",
   "version": "3.8.5"
  }
 },
 "nbformat": 4,
 "nbformat_minor": 4
}
